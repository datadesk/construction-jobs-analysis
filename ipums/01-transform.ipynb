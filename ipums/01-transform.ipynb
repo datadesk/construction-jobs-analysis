{
 "cells": [
  {
   "cell_type": "markdown",
   "metadata": {},
   "source": [
    "# Transform\n",
    "\n",
    "Clean up Census data downloaded from the [IPUMS online data analysis system](https://usa.ipums.org/usa/sda/)"
   ]
  },
  {
   "cell_type": "code",
   "execution_count": 2,
   "metadata": {
    "collapsed": true
   },
   "outputs": [],
   "source": [
    "import calculate\n",
    "import pandas as pd"
   ]
  },
  {
   "cell_type": "markdown",
   "metadata": {},
   "source": [
    "## Combine files we downloaded and process Hispanic totals"
   ]
  },
  {
   "cell_type": "code",
   "execution_count": 67,
   "metadata": {
    "collapsed": true
   },
   "outputs": [],
   "source": [
    "def total_latino(row):\n",
    "    return sum([\n",
    "        row.mexican,\n",
    "        row.puerto_rican,\n",
    "        row.cuban,\n",
    "        row.other\n",
    "    ])"
   ]
  },
  {
   "cell_type": "code",
   "execution_count": 68,
   "metadata": {
    "collapsed": true
   },
   "outputs": [],
   "source": [
    "def prep_hispanics(name, prefix=\"hispanics_la\"):\n",
    "    df = pd.read_csv(\n",
    "        \"ipums/input/{}_{}.csv\".format(prefix, name),\n",
    "        names=[\n",
    "            'ind1990',\n",
    "            'non_hispanic',\n",
    "            'mexican',\n",
    "            'puerto_rican',\n",
    "            'cuban',\n",
    "            'other',\n",
    "            'total'\n",
    "        ]\n",
    "    )\n",
    "    df['year'] = name\n",
    "    df['ind1990_code'] = df.apply(lambda x: x.ind1990.split(\":\")[0], axis=1)\n",
    "    df['latino'] = df.apply(total_latino, axis=1)\n",
    "    df['latino_percent'] = df.apply(lambda x: calculate.percentage(x.latino, x.total), axis=1)\n",
    "    df = df.set_index(\"ind1990_code\")\n",
    "    df.to_csv(\"ipums/output/{}_{}_transformed.csv\".format(prefix, name))\n",
    "    return df"
   ]
  },
  {
   "cell_type": "code",
   "execution_count": 69,
   "metadata": {
    "collapsed": true
   },
   "outputs": [],
   "source": [
    "def trim_hispanics(df):\n",
    "    return df[df.index == '60'].reset_index()[['year', 'non_hispanic', 'latino', 'total', 'latino_percent']]"
   ]
  },
  {
   "cell_type": "markdown",
   "metadata": {},
   "source": [
    "Combine and output hispanics working in construction in LA County"
   ]
  },
  {
   "cell_type": "code",
   "execution_count": 71,
   "metadata": {
    "collapsed": true
   },
   "outputs": [],
   "source": [
    "hispanic_80_la = prep_hispanics(\"1980\")\n",
    "hispanic_90_la = prep_hispanics(\"1990\")\n",
    "hispanic_00_la = prep_hispanics(\"2000\")\n",
    "hispanic_05_la = prep_hispanics(\"2005\")\n",
    "hispanic_10_la = prep_hispanics(\"2010\")\n",
    "hispanic_15_la = prep_hispanics(\"2015\")"
   ]
  },
  {
   "cell_type": "code",
   "execution_count": 72,
   "metadata": {
    "collapsed": true
   },
   "outputs": [],
   "source": [
    "construction_hispanics_la = pd.concat([\n",
    "    trim_hispanics(hispanic_80_la),\n",
    "    trim_hispanics(hispanic_90_la),\n",
    "    trim_hispanics(hispanic_00_la),\n",
    "    trim_hispanics(hispanic_05_la),\n",
    "    trim_hispanics(hispanic_10_la),\n",
    "    trim_hispanics(hispanic_15_la),\n",
    "]).set_index(\"year\")"
   ]
  },
  {
   "cell_type": "code",
   "execution_count": 74,
   "metadata": {
    "collapsed": true
   },
   "outputs": [],
   "source": [
    "construction_hispanics_la.to_csv(\"ipums/output/hispanics_la_combined.csv\")"
   ]
  }
 ],
 "metadata": {
  "kernelspec": {
   "display_name": "Python 2",
   "language": "python",
   "name": "python2"
  },
  "language_info": {
   "codemirror_mode": {
    "name": "ipython",
    "version": 2
   },
   "file_extension": ".py",
   "mimetype": "text/x-python",
   "name": "python",
   "nbconvert_exporter": "python",
   "pygments_lexer": "ipython2",
   "version": "2.7.12"
  }
 },
 "nbformat": 4,
 "nbformat_minor": 2
}
