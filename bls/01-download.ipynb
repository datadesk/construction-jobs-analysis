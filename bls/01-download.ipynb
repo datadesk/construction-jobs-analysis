{
 "cells": [
  {
   "cell_type": "markdown",
   "metadata": {},
   "source": [
    "# Download\n",
    "\n",
    "Pulls down the latest employment hours and earnings data from the Bureau of Labor Statistics' [Current Employment Statistics Program](https://www.bls.gov/ces/). The full files area available for download [here](https://download.bls.gov/pub/time.series/ce/ce.data.0.AllCESSeries)."
   ]
  },
  {
   "cell_type": "code",
   "execution_count": 3,
   "metadata": {},
   "outputs": [
    {
     "name": "stdout",
     "output_type": "stream",
     "text": [
      "  % Total    % Received % Xferd  Average Speed   Time    Time     Time  Current\r\n",
      "                                 Dload  Upload   Total   Spent    Left  Speed\r\n",
      "\r",
      "  0     0    0     0    0     0      0      0 --:--:-- --:--:-- --:--:--     0\r",
      "100   149  100   149    0     0    336      0 --:--:-- --:--:-- --:--:--   336\r\n",
      "  % Total    % Received % Xferd  Average Speed   Time    Time     Time  Current\r\n",
      "                                 Dload  Upload   Total   Spent    Left  Speed\r\n",
      "\r",
      "  0     0    0     0    0     0      0      0 --:--:-- --:--:-- --:--:--     0\r",
      "100  2965  100  2965    0     0  17391      0 --:--:-- --:--:-- --:--:-- 17441\r\n",
      "  % Total    % Received % Xferd  Average Speed   Time    Time     Time  Current\r\n",
      "                                 Dload  Upload   Total   Spent    Left  Speed\r\n",
      "\r",
      "  0     0    0     0    0     0      0      0 --:--:-- --:--:-- --:--:--     0\r",
      "100 53664    0 53664    0     0   260k      0 --:--:-- --:--:-- --:--:--  260k\r\n",
      "  % Total    % Received % Xferd  Average Speed   Time    Time     Time  Current\r\n",
      "                                 Dload  Upload   Total   Spent    Left  Speed\r\n",
      "\r",
      "  0     0    0     0    0     0      0      0 --:--:-- --:--:-- --:--:--     0\r",
      "100   416  100   416    0     0   2307      0 --:--:-- --:--:-- --:--:--  2311\r\n",
      "  % Total    % Received % Xferd  Average Speed   Time    Time     Time  Current\r\n",
      "                                 Dload  Upload   Total   Spent    Left  Speed\r\n",
      "\r",
      "  0     0    0     0    0     0      0      0 --:--:-- --:--:-- --:--:--     0\r",
      "  0     0    0     0    0     0      0      0 --:--:-- --:--:-- --:--:--     0\r",
      "100    79  100    79    0     0    455      0 --:--:-- --:--:-- --:--:--   454\r\n",
      "  % Total    % Received % Xferd  Average Speed   Time    Time     Time  Current\r\n",
      "                                 Dload  Upload   Total   Spent    Left  Speed\r\n",
      "\r",
      "  0     0    0     0    0     0      0      0 --:--:-- --:--:-- --:--:--     0\r",
      "100 4676k    0 4676k    0     0  7012k      0 --:--:-- --:--:-- --:--:-- 7022k\r\n",
      "  % Total    % Received % Xferd  Average Speed   Time    Time     Time  Current\r\n",
      "                                 Dload  Upload   Total   Spent    Left  Speed\r\n",
      "\r",
      "  0     0    0     0    0     0      0      0 --:--:-- --:--:-- --:--:--     0\r",
      "100   565  100   565    0     0   3221      0 --:--:-- --:--:-- --:--:--  3228\r\n"
     ]
    }
   ],
   "source": [
    "!curl -o bls/input/ce.footnote.tsv https://download.bls.gov/pub/time.series/ce/ce.footnote\n",
    "!curl -o bls/input/ce.datatype.tsv https://download.bls.gov/pub/time.series/ce/ce.datatype\n",
    "!curl -o bls/input/ce.industry.tsv https://download.bls.gov/pub/time.series/ce/ce.industry\n",
    "!curl -o bls/input/ce.period.tsv https://download.bls.gov/pub/time.series/ce/ce.period\n",
    "!curl -o bls/input/ce.seasonal.tsv https://download.bls.gov/pub/time.series/ce/ce.seasonal\n",
    "!curl -o bls/input/ce.series.tsv https://download.bls.gov/pub/time.series/ce/ce.series\n",
    "!curl -o bls/input/ce.supersector.tsv https://download.bls.gov/pub/time.series/ce/ce.supersector"
   ]
  },
  {
   "cell_type": "code",
   "execution_count": 6,
   "metadata": {},
   "outputs": [
    {
     "name": "stdout",
     "output_type": "stream",
     "text": [
      "  % Total    % Received % Xferd  Average Speed   Time    Time     Time  Current\r\n",
      "                                 Dload  Upload   Total   Spent    Left  Speed\r\n",
      "\r",
      "  0     0    0     0    0     0      0      0 --:--:-- --:--:-- --:--:--     0\r",
      "  0     0    0     0    0     0      0      0 --:--:-- --:--:-- --:--:--     0\r",
      "100 9475k    0 9475k    0     0  6830k      0 --:--:--  0:00:01 --:--:-- 6826k\r",
      "100 18.9M    0 18.9M    0     0  8121k      0 --:--:--  0:00:02 --:--:-- 8119k\r",
      "100 29.8M    0 29.8M    0     0  9029k      0 --:--:--  0:00:03 --:--:-- 9027k\r",
      "100 40.5M    0 40.5M    0     0  9457k      0 --:--:--  0:00:04 --:--:-- 9456k\r",
      "100 51.6M    0 51.6M    0     0  9810k      0 --:--:--  0:00:05 --:--:-- 10.4M\r",
      "100 62.7M    0 62.7M    0     0   9.8M      0 --:--:--  0:00:06 --:--:-- 10.7M\r",
      "100 73.7M    0 73.7M    0     0   9.9M      0 --:--:--  0:00:07 --:--:-- 10.9M\r",
      "100 84.8M    0 84.8M    0     0  10.1M      0 --:--:--  0:00:08 --:--:-- 10.9M\r",
      "100 95.6M    0 95.6M    0     0  10.1M      0 --:--:--  0:00:09 --:--:-- 11.0M\r",
      "100  106M    0  106M    0     0  10.2M      0 --:--:--  0:00:10 --:--:-- 10.9M\r",
      "100  117M    0  117M    0     0  10.3M      0 --:--:--  0:00:11 --:--:-- 10.9M\r",
      "100  128M    0  128M    0     0  10.3M      0 --:--:--  0:00:12 --:--:-- 10.9M\r",
      "100  139M    0  139M    0     0  10.4M      0 --:--:--  0:00:13 --:--:-- 10.9M\r",
      "100  150M    0  150M    0     0  10.4M      0 --:--:--  0:00:14 --:--:-- 11.0M\r",
      "100  161M    0  161M    0     0  10.5M      0 --:--:--  0:00:15 --:--:-- 11.0M\r",
      "100  172M    0  172M    0     0  10.5M      0 --:--:--  0:00:16 --:--:-- 11.0M\r",
      "100  183M    0  183M    0     0  10.5M      0 --:--:--  0:00:17 --:--:-- 11.0M\r",
      "100  195M    0  195M    0     0  10.6M      0 --:--:--  0:00:18 --:--:-- 11.0M\r",
      "100  206M    0  206M    0     0  10.6M      0 --:--:--  0:00:19 --:--:-- 11.0M\r",
      "100  217M    0  217M    0     0  10.6M      0 --:--:--  0:00:20 --:--:-- 11.0M\r",
      "100  228M    0  228M    0     0  10.6M      0 --:--:--  0:00:21 --:--:-- 11.0M\r",
      "100  239M    0  239M    0     0  10.6M      0 --:--:--  0:00:22 --:--:-- 11.0M\r",
      "100  250M    0  250M    0     0  10.7M      0 --:--:--  0:00:23 --:--:-- 11.0M\r",
      "100  261M    0  261M    0     0  10.7M      0 --:--:--  0:00:24 --:--:-- 11.0M\r",
      "100  272M    0  272M    0     0  10.7M      0 --:--:--  0:00:25 --:--:-- 11.0M\r",
      "100  283M    0  283M    0     0  10.7M      0 --:--:--  0:00:26 --:--:-- 11.0M\r",
      "100  294M    0  294M    0     0  10.7M      0 --:--:--  0:00:27 --:--:-- 11.0M\r",
      "100  305M    0  305M    0     0  10.7M      0 --:--:--  0:00:28 --:--:-- 11.0M\r",
      "100  315M    0  315M    0     0  10.7M      0 --:--:--  0:00:29 --:--:-- 10.9M\r",
      "100  326M    0  326M    0     0  10.7M      0 --:--:--  0:00:30 --:--:-- 10.8M\r",
      "100  337M    0  337M    0     0  10.7M      0 --:--:--  0:00:31 --:--:-- 10.7M\r",
      "100  347M    0  347M    0     0  10.7M      0 --:--:--  0:00:32 --:--:-- 10.6M\r",
      "100  351M    0  351M    0     0  10.7M      0 --:--:--  0:00:32 --:--:-- 10.4M\r\n"
     ]
    }
   ],
   "source": [
    "!curl -o bls/input/ce.data.0.ALL_CES_Series.tsv https://download.bls.gov/pub/time.series/ce/ce.data.0.AllCESSeries"
   ]
  }
 ],
 "metadata": {
  "kernelspec": {
   "display_name": "Python 2",
   "language": "python",
   "name": "python2"
  },
  "language_info": {
   "codemirror_mode": {
    "name": "ipython",
    "version": 2
   },
   "file_extension": ".py",
   "mimetype": "text/x-python",
   "name": "python",
   "nbconvert_exporter": "python",
   "pygments_lexer": "ipython2",
   "version": "2.7.12"
  }
 },
 "nbformat": 4,
 "nbformat_minor": 2
}
