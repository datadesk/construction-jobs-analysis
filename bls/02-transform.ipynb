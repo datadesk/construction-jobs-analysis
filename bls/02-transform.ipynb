{
 "cells": [
  {
   "cell_type": "markdown",
   "metadata": {},
   "source": [
    "# Transform\n",
    "\n",
    "Ingests the raw data from the Bureau of Labor Statistics' Current Employement Statistics Program and combines it into a simple consolidated file."
   ]
  },
  {
   "cell_type": "code",
   "execution_count": 28,
   "metadata": {
    "collapsed": true
   },
   "outputs": [],
   "source": [
    "import pandas as pd"
   ]
  },
  {
   "cell_type": "code",
   "execution_count": 29,
   "metadata": {},
   "outputs": [],
   "source": [
    "import warnings\n",
    "warnings.filterwarnings(\"ignore\")"
   ]
  },
  {
   "cell_type": "markdown",
   "metadata": {},
   "source": [
    "## Read in all the raw files"
   ]
  },
  {
   "cell_type": "code",
   "execution_count": 30,
   "metadata": {
    "collapsed": true
   },
   "outputs": [],
   "source": [
    "values_df = pd.read_csv(\n",
    "    \"bls/input/ce.data.0.ALL_CES_Series.tsv\",\n",
    "    delimiter=\"\\t\"\n",
    ")"
   ]
  },
  {
   "cell_type": "code",
   "execution_count": 31,
   "metadata": {
    "collapsed": true
   },
   "outputs": [],
   "source": [
    "datatype_df = pd.read_csv(\n",
    "    \"bls/input/ce.datatype.tsv\",\n",
    "    delimiter=\"\\t\",\n",
    "    skiprows=1,\n",
    "    dtype={0: str},\n",
    "    names=[\"data_type_code\", \"data_type_text\", \"blank\"]\n",
    ")"
   ]
  },
  {
   "cell_type": "code",
   "execution_count": 32,
   "metadata": {
    "collapsed": true
   },
   "outputs": [],
   "source": [
    "footnote_df = pd.read_csv(\n",
    "    \"bls/input/ce.footnote.tsv\",\n",
    "    delimiter=\"\\t\",\n",
    "    skiprows=1,\n",
    "    names=[\"footnote_code\", \"footnote_text\", \"blank\"]\n",
    ")"
   ]
  },
  {
   "cell_type": "code",
   "execution_count": 33,
   "metadata": {
    "collapsed": true
   },
   "outputs": [],
   "source": [
    "industry_df = pd.read_csv(\n",
    "    \"bls/input/ce.industry.tsv\",\n",
    "    delimiter=\"\\t\",\n",
    "    skiprows=1,\n",
    "    dtype={0: str},\n",
    "    names=[\"industry_code\", \"naics_code\", \"publishing_status\", \"industry_name\", \"display_level\", \"selectable\", \"sort_sequence\", \"blank\"]\n",
    ")"
   ]
  },
  {
   "cell_type": "code",
   "execution_count": 34,
   "metadata": {
    "collapsed": true
   },
   "outputs": [],
   "source": [
    "period_df = pd.read_csv(\n",
    "    \"bls/input/ce.period.tsv\",\n",
    "    delimiter=\"\\t\",\n",
    "    names=[\"period_code\", \"period_abbreviation\", \"period_name\"]\n",
    ")"
   ]
  },
  {
   "cell_type": "code",
   "execution_count": 35,
   "metadata": {
    "collapsed": true
   },
   "outputs": [],
   "source": [
    "seasonal_df = pd.read_csv(\n",
    "    \"bls/input/ce.seasonal.tsv\",\n",
    "    delimiter=\"\\t\"\n",
    ")"
   ]
  },
  {
   "cell_type": "code",
   "execution_count": 36,
   "metadata": {
    "collapsed": true
   },
   "outputs": [],
   "source": [
    "series_df = pd.read_csv(\n",
    "    \"bls/input/ce.series.tsv\",\n",
    "    delimiter=\"\\t\",\n",
    "    dtype={\n",
    "        \"supersector_code\": str,\n",
    "        \"industry_code\": str,\n",
    "        \"data_type_code\": str,\n",
    "    }\n",
    ")"
   ]
  },
  {
   "cell_type": "code",
   "execution_count": 37,
   "metadata": {
    "collapsed": true
   },
   "outputs": [],
   "source": [
    "supersector_df = pd.read_csv(\n",
    "    \"bls/input/ce.supersector.tsv\",\n",
    "    delimiter=\"\\t\",\n",
    "    skiprows=1,\n",
    "    dtype={0: str},\n",
    "    names=[\"supersector_code\", \"supersector_name\", \"blank\"]\n",
    ")"
   ]
  },
  {
   "cell_type": "markdown",
   "metadata": {},
   "source": [
    "## Join them together"
   ]
  },
  {
   "cell_type": "code",
   "execution_count": 38,
   "metadata": {},
   "outputs": [
    {
     "data": {
      "text/plain": [
       "'7,088,149'"
      ]
     },
     "execution_count": 38,
     "metadata": {},
     "output_type": "execute_result"
    }
   ],
   "source": [
    "\"{:,d}\".format(len(values_df))"
   ]
  },
  {
   "cell_type": "code",
   "execution_count": 39,
   "metadata": {
    "collapsed": true
   },
   "outputs": [],
   "source": [
    "merged_df = pd.merge(\n",
    "    series_df,\n",
    "    values_df,\n",
    "    on=\"series_id\"\n",
    ")"
   ]
  },
  {
   "cell_type": "code",
   "execution_count": 40,
   "metadata": {},
   "outputs": [
    {
     "data": {
      "text/plain": [
       "7088149"
      ]
     },
     "execution_count": 40,
     "metadata": {},
     "output_type": "execute_result"
    }
   ],
   "source": [
    "len(merged_df)"
   ]
  },
  {
   "cell_type": "code",
   "execution_count": 41,
   "metadata": {
    "collapsed": true
   },
   "outputs": [],
   "source": [
    "merged_df = pd.merge(\n",
    "    merged_df,\n",
    "    supersector_df,\n",
    "    on=\"supersector_code\"\n",
    ")"
   ]
  },
  {
   "cell_type": "code",
   "execution_count": 42,
   "metadata": {},
   "outputs": [
    {
     "data": {
      "text/plain": [
       "'7,088,149'"
      ]
     },
     "execution_count": 42,
     "metadata": {},
     "output_type": "execute_result"
    }
   ],
   "source": [
    "\"{:,d}\".format(len(merged_df))"
   ]
  },
  {
   "cell_type": "code",
   "execution_count": 43,
   "metadata": {
    "collapsed": true
   },
   "outputs": [],
   "source": [
    "merged_df = pd.merge(\n",
    "    merged_df,\n",
    "    industry_df,\n",
    "    on=\"industry_code\"\n",
    ")"
   ]
  },
  {
   "cell_type": "code",
   "execution_count": 44,
   "metadata": {},
   "outputs": [
    {
     "data": {
      "text/plain": [
       "'7,088,149'"
      ]
     },
     "execution_count": 44,
     "metadata": {},
     "output_type": "execute_result"
    }
   ],
   "source": [
    "\"{:,d}\".format(len(merged_df))"
   ]
  },
  {
   "cell_type": "code",
   "execution_count": 45,
   "metadata": {
    "collapsed": true
   },
   "outputs": [],
   "source": [
    "merged_df = pd.merge(\n",
    "    merged_df,\n",
    "    datatype_df,\n",
    "    on=\"data_type_code\"\n",
    ")"
   ]
  },
  {
   "cell_type": "code",
   "execution_count": 46,
   "metadata": {},
   "outputs": [
    {
     "data": {
      "text/plain": [
       "'7,088,149'"
      ]
     },
     "execution_count": 46,
     "metadata": {},
     "output_type": "execute_result"
    }
   ],
   "source": [
    "\"{:,d}\".format(len(merged_df))"
   ]
  },
  {
   "cell_type": "markdown",
   "metadata": {},
   "source": [
    "## Trim it down"
   ]
  },
  {
   "cell_type": "code",
   "execution_count": 47,
   "metadata": {},
   "outputs": [
    {
     "name": "stdout",
     "output_type": "stream",
     "text": [
      "<class 'pandas.core.frame.DataFrame'>\n",
      "Int64Index: 7088149 entries, 0 to 7088148\n",
      "Data columns (total 26 columns):\n",
      "series_id            object\n",
      "supersector_code     object\n",
      "industry_code        object\n",
      "data_type_code       object\n",
      "seasonal             object\n",
      "series_title         object\n",
      "footnote_codes_x     object\n",
      "begin_year           int64\n",
      "begin_period         object\n",
      "end_year             int64\n",
      "end_period           object\n",
      "year                 int64\n",
      "period               object\n",
      "value                float64\n",
      "footnote_codes_y     object\n",
      "supersector_name     object\n",
      "blank_x              float64\n",
      "naics_code           object\n",
      "publishing_status    object\n",
      "industry_name        object\n",
      "display_level        int64\n",
      "selectable           object\n",
      "sort_sequence        int64\n",
      "blank_y              float64\n",
      "data_type_text       object\n",
      "blank                float64\n",
      "dtypes: float64(4), int64(5), object(17)\n",
      "memory usage: 1.4+ GB\n"
     ]
    }
   ],
   "source": [
    "merged_df.info()"
   ]
  },
  {
   "cell_type": "code",
   "execution_count": 48,
   "metadata": {
    "collapsed": true
   },
   "outputs": [],
   "source": [
    "merged_df.drop([\n",
    "    \"blank_y\",\n",
    "    \"blank_x\",\n",
    "    \"footnote_codes_y\",\n",
    "    \"blank\",\n",
    "    \"supersector_code\",\n",
    "    \"industry_code\",\n",
    "    \"data_type_code\",\n",
    "    \"selectable\",\n",
    "    \"sort_sequence\"\n",
    "], axis=1, inplace=True)"
   ]
  },
  {
   "cell_type": "code",
   "execution_count": 49,
   "metadata": {
    "collapsed": true
   },
   "outputs": [],
   "source": [
    "merged_df.rename(\n",
    "    columns={\n",
    "        \"footnote_codes_x\": \"footenote_code\",\n",
    "    },\n",
    "    inplace=True\n",
    ")"
   ]
  },
  {
   "cell_type": "code",
   "execution_count": 50,
   "metadata": {},
   "outputs": [
    {
     "name": "stdout",
     "output_type": "stream",
     "text": [
      "<class 'pandas.core.frame.DataFrame'>\n",
      "Int64Index: 7088149 entries, 0 to 7088148\n",
      "Data columns (total 17 columns):\n",
      "series_id            object\n",
      "seasonal             object\n",
      "series_title         object\n",
      "footenote_code       object\n",
      "begin_year           int64\n",
      "begin_period         object\n",
      "end_year             int64\n",
      "end_period           object\n",
      "year                 int64\n",
      "period               object\n",
      "value                float64\n",
      "supersector_name     object\n",
      "naics_code           object\n",
      "publishing_status    object\n",
      "industry_name        object\n",
      "display_level        int64\n",
      "data_type_text       object\n",
      "dtypes: float64(1), int64(4), object(12)\n",
      "memory usage: 973.4+ MB\n"
     ]
    }
   ],
   "source": [
    "merged_df.info()"
   ]
  },
  {
   "cell_type": "markdown",
   "metadata": {},
   "source": [
    "## Write it out"
   ]
  },
  {
   "cell_type": "code",
   "execution_count": 51,
   "metadata": {
    "collapsed": true
   },
   "outputs": [],
   "source": [
    "merged_df.to_csv(\"bls/output/bls_ce_transformed.csv\", index=False)"
   ]
  }
 ],
 "metadata": {
  "kernelspec": {
   "display_name": "Python 2",
   "language": "python",
   "name": "python2"
  },
  "language_info": {
   "codemirror_mode": {
    "name": "ipython",
    "version": 2
   },
   "file_extension": ".py",
   "mimetype": "text/x-python",
   "name": "python",
   "nbconvert_exporter": "python",
   "pygments_lexer": "ipython2",
   "version": "2.7.12+"
  }
 },
 "nbformat": 4,
 "nbformat_minor": 2
}
